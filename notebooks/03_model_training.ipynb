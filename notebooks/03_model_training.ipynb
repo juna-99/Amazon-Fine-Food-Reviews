{
 "cells": [
  {
   "cell_type": "code",
   "execution_count": null,
   "metadata": {
    "vscode": {
     "languageId": "plaintext"
    }
   },
   "outputs": [],
   "source": [
    "import numpy as np\n",
    "import pandas as pd\n",
    "import seaborn as sns\n",
    "import matplotlib.pyplot as plt\n",
    "\n",
    "from wordcloud import WordCloud, STOPWORDS\n",
    "from sklearn.model_selection import train_test_split\n",
    "from sklearn.preprocessing import LabelEncoder\n",
    "from sklearn.metrics import accuracy_score, confusion_matrix, roc_curve, auc, classification_report\n",
    "\n",
    "import string\n",
    "import re\n",
    "import nltk\n",
    "\n",
    "from sklearn.feature_extraction.text import TfidfVectorizer\n",
    "from sklearn.feature_extraction.text import CountVectorizer\n",
    "from nltk.corpus import stopwords\n",
    "from nltk.stem import PorterStemmer\n",
    "\n",
    "from sklearn.linear_model import LogisticRegression\n",
    "from sklearn.naive_bayes import MultinomialNB\n",
    "from sklearn.naive_bayes import BernoulliNB\n",
    "\n",
    "from keras.utils import to_categorical\n",
    "from keras.preprocessing.text import Tokenizer\n",
    "from keras.preprocessing.sequence import pad_sequences\n",
    "from keras.layers import Dense , LSTM , Embedding\n",
    "from keras.models import Sequential\n",
    "from keras.callbacks import EarlyStopping\n",
    "\n",
    "import warnings\n",
    "warnings.filterwarnings('ignore')"
   ]
  },
  {
   "cell_type": "code",
   "execution_count": null,
   "metadata": {
    "vscode": {
     "languageId": "plaintext"
    }
   },
   "outputs": [],
   "source": [
    "data = pd.read_csv(r\"C:\\Users\\afrin\\Documents\\Amazon Fine Food Reviews\\data\\processed\\Reviews.csv\")"
   ]
  },
  {
   "cell_type": "code",
   "execution_count": null,
   "metadata": {
    "vscode": {
     "languageId": "plaintext"
    }
   },
   "outputs": [],
   "source": [
    "#80:20\n",
    "X = data.Text\n",
    "y = data.target\n",
    "\n",
    "X_train, X_test, y_train, y_test = train_test_split(X, y, test_size = 0.20, random_state = 1, stratify = y)"
   ]
  },
  {
   "cell_type": "code",
   "execution_count": null,
   "metadata": {
    "vscode": {
     "languageId": "plaintext"
    }
   },
   "outputs": [],
   "source": [
    "X_train.shape, X_test.shape"
   ]
  },
  {
   "cell_type": "code",
   "execution_count": null,
   "metadata": {
    "vscode": {
     "languageId": "plaintext"
    }
   },
   "outputs": [],
   "source": [
    "#TF-IDF Vectorization\n",
    "tfidf_vectorizer = TfidfVectorizer()\n",
    "tfidf_vectorizer.fit(X_train)\n",
    "\n",
    "# transform\n",
    "tfidf_X_train = tfidf_vectorizer.transform(X_train)\n",
    "tfidf_X_test = tfidf_vectorizer.transform(X_test)"
   ]
  },
  {
   "cell_type": "code",
   "execution_count": null,
   "metadata": {
    "vscode": {
     "languageId": "plaintext"
    }
   },
   "outputs": [],
   "source": [
    "#Label Encodding\n",
    "labelEncoder = LabelEncoder()\n",
    "\n",
    "y_train = labelEncoder.fit_transform(y_train)\n",
    "y_test = labelEncoder.transform(y_test)\n",
    "\n",
    "labels = labelEncoder.classes_.tolist()\n",
    "print(labels) # index-> class"
   ]
  },
  {
   "cell_type": "code",
   "execution_count": null,
   "metadata": {
    "vscode": {
     "languageId": "plaintext"
    }
   },
   "outputs": [],
   "source": [
    "#Logistic Regression with TF IDF\n",
    "log_model = LogisticRegression(C=1e5).fit(tfidf_X_train, y_train)\n",
    "y_pred_log = log_model.predict(tfidf_X_test)"
   ]
  },
  {
   "cell_type": "code",
   "execution_count": null,
   "metadata": {
    "vscode": {
     "languageId": "plaintext"
    }
   },
   "outputs": [],
   "source": [
    "#Multinomial Naive Bayes with TFIDF\n",
    "multinomial_model = MultinomialNB().fit(tfidf_X_train, y_train)\n",
    "y_pred_multinomial = multinomial_model.predict(tfidf_X_test)"
   ]
  },
  {
   "cell_type": "code",
   "execution_count": null,
   "metadata": {
    "vscode": {
     "languageId": "plaintext"
    }
   },
   "outputs": [],
   "source": [
    "#Bernoulli Naive Bayes with TFIDF\n",
    "bernoulli_model = BernoulliNB().fit(tfidf_X_train, y_train)\n",
    "y_pred_bernoulli = bernoulli_model.predict(tfidf_X_test)"
   ]
  },
  {
   "cell_type": "code",
   "execution_count": null,
   "metadata": {
    "vscode": {
     "languageId": "plaintext"
    }
   },
   "outputs": [],
   "source": [
    "#Confussion Matrices\n",
    "# Confusion matrix for Logistic Regression\n",
    "conf_matrix_log = confusion_matrix(y_test, y_pred_log)\n",
    "\n",
    "# Confusion matrix for Multinomial Naive Bayes\n",
    "conf_matrix_nb = confusion_matrix(y_test, y_pred_multinomial)\n",
    "\n",
    "# Confusion matrix for Bernoulli Naive Bayes\n",
    "conf_matrix_bernoulli = confusion_matrix(y_test, y_pred_bernoulli)\n",
    "\n",
    "# Plotting confusion matrices\n",
    "fig, (ax1, ax2, ax3) = plt.subplots(nrows=1, ncols=3, figsize=(15, 5), dpi=100)\n",
    "\n",
    "sns.heatmap(conf_matrix_log, annot=True, cmap='Blues', fmt='d', cbar=False, ax=ax1)\n",
    "ax1.set_title('Confusion Matrix - Logistic Regression')\n",
    "ax1.set_xlabel('Predicted')\n",
    "ax1.set_ylabel('Actual')\n",
    "ax1.set_xticklabels([\"positive\", \"negative\"])\n",
    "ax1.set_yticklabels([\"positive\", \"negative\"])\n",
    "\n",
    "sns.heatmap(conf_matrix_nb, annot=True, cmap='Greens', fmt='d', cbar=False, ax=ax2)\n",
    "ax2.set_title('Confusion Matrix - Multinomial Naive Bayes')\n",
    "ax2.set_xlabel('Predicted')\n",
    "ax2.set_ylabel('Actual')\n",
    "ax2.set_xticklabels([\"positive\", \"negative\"])\n",
    "ax2.set_yticklabels([\"positive\", \"negative\"])\n",
    "\n",
    "sns.heatmap(conf_matrix_bernoulli, annot=True, cmap='Reds', fmt='d', cbar=False, ax=ax3)\n",
    "ax3.set_title('Confusion Matrix - Bernoulli Naive Bayes')\n",
    "ax3.set_xlabel('Predicted')\n",
    "ax3.set_ylabel('Actual')\n",
    "ax3.set_xticklabels([\"positive\", \"negative\"])\n",
    "ax3.set_yticklabels([\"positive\", \"negative\"])\n",
    "\n",
    "fig.suptitle(\"Confusion matrices\", fontsize=16)\n",
    "plt.tight_layout()\n",
    "plt.show()"
   ]
  },
  {
   "cell_type": "code",
   "execution_count": null,
   "metadata": {
    "vscode": {
     "languageId": "plaintext"
    }
   },
   "outputs": [],
   "source": [
    "#Classification Report\n",
    "print('Classification Report:')\n",
    "\n",
    "# Logistic Regression\n",
    "print('Logistic Regression')\n",
    "print(classification_report(y_test, y_pred_log))\n",
    "\n",
    "# Multinomial Naive Bayes\n",
    "print('\\nMultinomial Naive Bayes')\n",
    "print(classification_report(y_test, y_pred_multinomial))\n",
    "\n",
    "# Bernoulli Naive Bayes\n",
    "print('\\nBernoulli Naive Bayes')\n",
    "print(classification_report(y_test, y_pred_bernoulli))"
   ]
  },
  {
   "cell_type": "code",
   "execution_count": null,
   "metadata": {
    "vscode": {
     "languageId": "plaintext"
    }
   },
   "outputs": [],
   "source": [
    "#Model accuracy\n",
    "accuracy = {}\n",
    "\n",
    "# Calculate accuracy for each model\n",
    "accuracy['Logistic Regression'] = accuracy_score(y_test, y_pred_log)\n",
    "accuracy['Multinomial Naive Bayes'] = accuracy_score(y_test, y_pred_multinomial)\n",
    "accuracy['Bernoulli Naive Bayes'] = accuracy_score(y_test, y_pred_bernoulli)\n",
    "\n",
    "# Create a datafame to display the accuracies\n",
    "accuracy_table = pd.DataFrame(list(accuracy.items()), columns=['Model', 'Accuracy'])\n",
    "accuracy_table"
   ]
  },
  {
   "cell_type": "code",
   "execution_count": null,
   "metadata": {
    "vscode": {
     "languageId": "plaintext"
    }
   },
   "outputs": [],
   "source": [
    "#ROC - AUC Curve\n",
    "# Predictions for classifiers stored in 'predictions' dictionary\n",
    "predictions = {\n",
    "    'Logistic Regression': log_model.predict_proba(tfidf_X_test)[:, 1],\n",
    "    'Multinomial Naive Bayes': multinomial_model.predict_proba(tfidf_X_test)[:, 1],\n",
    "    'Bernoulli Naive Bayes': bernoulli_model.predict_proba(tfidf_X_test)[:, 1]}\n",
    "\n",
    "# Plotting ROC curves for each classifier\n",
    "plt.figure(figsize=(8, 6))\n",
    "\n",
    "for model, predicted_probs in predictions.items():\n",
    "    false_positive_rate, true_positive_rate, _ = roc_curve(y_test, predicted_probs)\n",
    "    roc_auc = auc(false_positive_rate, true_positive_rate)\n",
    "    plt.plot(\n",
    "        false_positive_rate, \n",
    "        true_positive_rate, \n",
    "        label='%s: AUC %0.2f' % (model, roc_auc))\n",
    "\n",
    "plt.plot([0, 1], [0, 1], 'k--')\n",
    "plt.xlim([0.0, 1.0])\n",
    "plt.ylim([0.0, 1.05])\n",
    "plt.xlabel('False Positive Rate')\n",
    "plt.ylabel('True Positive Rate')\n",
    "plt.title('Receiver Operating Characteristic (ROC) Curve')\n",
    "plt.legend(loc=\"lower right\")\n",
    "plt.show()"
   ]
  }
 ],
 "metadata": {
  "language_info": {
   "name": "python"
  }
 },
 "nbformat": 4,
 "nbformat_minor": 2
}
